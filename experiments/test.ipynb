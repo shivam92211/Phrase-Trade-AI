{
 "cells": [
  {
   "cell_type": "code",
   "execution_count": 1,
   "metadata": {},
   "outputs": [
    {
     "name": "stderr",
     "output_type": "stream",
     "text": [
      "/home/shiv/miniconda3/envs/gemini/lib/python3.11/site-packages/tqdm/auto.py:21: TqdmWarning: IProgress not found. Please update jupyter and ipywidgets. See https://ipywidgets.readthedocs.io/en/stable/user_install.html\n",
      "  from .autonotebook import tqdm as notebook_tqdm\n"
     ]
    }
   ],
   "source": [
    "import psycopg2\n",
    "from dotenv import load_dotenv\n",
    "import google.generativeai as genai\n",
    "from langchain_google_genai import GoogleGenerativeAIEmbeddings\n",
    "import os\n"
   ]
  },
  {
   "cell_type": "code",
   "execution_count": 2,
   "metadata": {},
   "outputs": [
    {
     "name": "stderr",
     "output_type": "stream",
     "text": [
      "WARNING: All log messages before absl::InitializeLog() is called are written to STDERR\n",
      "I0000 00:00:1726734942.160413  393897 config.cc:230] gRPC experiments enabled: call_status_override_on_cancellation, event_engine_dns, event_engine_listener, http2_stats_fix, monitoring_experiment, pick_first_new, trace_record_callops, work_serializer_clears_time_cache\n"
     ]
    }
   ],
   "source": [
    "load_dotenv()\n",
    "os.getenv(\"GOOGLE_API_KEY\")\n",
    "genai.configure(api_key=os.getenv(\"GOOGLE_API_KEY\"))\n",
    "\n",
    "\n",
    "# Initialize GoogleGenerativeAIEmbedding\n",
    "model = GoogleGenerativeAIEmbeddings(\n",
    "        model='models/embedding-001',\n",
    "    )\n"
   ]
  },
  {
   "cell_type": "code",
   "execution_count": 3,
   "metadata": {},
   "outputs": [],
   "source": [
    "\n",
    "# Connect to the PostgreSQL database\n",
    "connection = psycopg2.connect(\n",
    "    dbname=\"vector_db\",\n",
    "    user=\"postgres\",\n",
    "    password=\"great\",\n",
    "    host=\"localhost\",\n",
    "    port=\"5432\"\n",
    ")\n",
    "\n",
    "# Create a cursor object\n",
    "cursor = connection.cursor()\n",
    "\n",
    "# Function to find similar sentences\n",
    "def find_similar_sentences(query_sentence, top_n=1):\n",
    "    # Generate the embedding for the query sentence\n",
    "    query_embedding = model.embed_documents([query_sentence])[0]  # Get the embedding as a list\n",
    "    \n",
    "    # Convert the embedding to a format PostgreSQL understands (e.g., array)\n",
    "    query_embedding_str = ','.join(map(str, query_embedding))\n",
    "    \n",
    "    # Write the SQL query to find similar sentences\n",
    "    sql_query = f\"\"\"\n",
    "    SELECT id, collection_id, embedding <=> ARRAY[{query_embedding_str}]::vector  AS distance\n",
    "    FROM langchain_pg_embedding\n",
    "    ORDER BY embedding <=> ARRAY[{query_embedding_str}]\n",
    "    LIMIT {top_n};\n",
    "    \"\"\"\n",
    "    \n",
    "    # Execute the SQL query\n",
    "    cursor.execute(sql_query)\n",
    "    \n",
    "    # Fetch the results\n",
    "    results = cursor.fetchall()\n",
    "    \n",
    "    # Display the similar sentences\n",
    "    for result in results:\n",
    "        print(f\"Sentence ID: {result[0]}, Sentence: {result[1]}, Distance: {result[2]}\")\n",
    "\n",
    "    # Close the cursor and connection\n",
    "    cursor.close()\n",
    "    connection.close()\n",
    "\n",
    "\n"
   ]
  },
  {
   "cell_type": "code",
   "execution_count": 5,
   "metadata": {},
   "outputs": [
    {
     "ename": "InFailedSqlTransaction",
     "evalue": "current transaction is aborted, commands ignored until end of transaction block\n",
     "output_type": "error",
     "traceback": [
      "\u001b[0;31m---------------------------------------------------------------------------\u001b[0m",
      "\u001b[0;31mInFailedSqlTransaction\u001b[0m                    Traceback (most recent call last)",
      "Cell \u001b[0;32mIn[5], line 3\u001b[0m\n\u001b[1;32m      1\u001b[0m \u001b[38;5;66;03m# Example usage\u001b[39;00m\n\u001b[1;32m      2\u001b[0m query_sentence \u001b[38;5;241m=\u001b[39m \u001b[38;5;124m\"\u001b[39m\u001b[38;5;124mFind the most similar sentence to this.\u001b[39m\u001b[38;5;124m\"\u001b[39m\n\u001b[0;32m----> 3\u001b[0m \u001b[43mfind_similar_sentences\u001b[49m\u001b[43m(\u001b[49m\u001b[43mquery_sentence\u001b[49m\u001b[43m)\u001b[49m\n",
      "Cell \u001b[0;32mIn[3], line 30\u001b[0m, in \u001b[0;36mfind_similar_sentences\u001b[0;34m(query_sentence, top_n)\u001b[0m\n\u001b[1;32m     22\u001b[0m sql_query \u001b[38;5;241m=\u001b[39m \u001b[38;5;124mf\u001b[39m\u001b[38;5;124m\"\"\"\u001b[39m\n\u001b[1;32m     23\u001b[0m \u001b[38;5;124mSELECT id, collection_id, embedding <=> ARRAY[\u001b[39m\u001b[38;5;132;01m{\u001b[39;00mquery_embedding_str\u001b[38;5;132;01m}\u001b[39;00m\u001b[38;5;124m]::vector  AS distance\u001b[39m\n\u001b[1;32m     24\u001b[0m \u001b[38;5;124mFROM langchain_pg_embedding\u001b[39m\n\u001b[1;32m     25\u001b[0m \u001b[38;5;124mORDER BY embedding <=> ARRAY[\u001b[39m\u001b[38;5;132;01m{\u001b[39;00mquery_embedding_str\u001b[38;5;132;01m}\u001b[39;00m\u001b[38;5;124m]\u001b[39m\n\u001b[1;32m     26\u001b[0m \u001b[38;5;124mLIMIT \u001b[39m\u001b[38;5;132;01m{\u001b[39;00mtop_n\u001b[38;5;132;01m}\u001b[39;00m\u001b[38;5;124m;\u001b[39m\n\u001b[1;32m     27\u001b[0m \u001b[38;5;124m\u001b[39m\u001b[38;5;124m\"\"\"\u001b[39m\n\u001b[1;32m     29\u001b[0m \u001b[38;5;66;03m# Execute the SQL query\u001b[39;00m\n\u001b[0;32m---> 30\u001b[0m \u001b[43mcursor\u001b[49m\u001b[38;5;241;43m.\u001b[39;49m\u001b[43mexecute\u001b[49m\u001b[43m(\u001b[49m\u001b[43msql_query\u001b[49m\u001b[43m)\u001b[49m\n\u001b[1;32m     32\u001b[0m \u001b[38;5;66;03m# Fetch the results\u001b[39;00m\n\u001b[1;32m     33\u001b[0m results \u001b[38;5;241m=\u001b[39m cursor\u001b[38;5;241m.\u001b[39mfetchall()\n",
      "\u001b[0;31mInFailedSqlTransaction\u001b[0m: current transaction is aborted, commands ignored until end of transaction block\n"
     ]
    }
   ],
   "source": [
    "# Example usage\n",
    "query_sentence = \"Find the most similar sentence to this.\"\n",
    "find_similar_sentences(query_sentence)\n",
    "\n"
   ]
  },
  {
   "cell_type": "code",
   "execution_count": 6,
   "metadata": {},
   "outputs": [],
   "source": [
    "import json\n",
    "\n",
    "# Function to find similar sentences\n",
    "def find_similar_sentences(query_sentence, top_n=1):\n",
    "\n",
    "    # Connect to the PostgreSQL database\n",
    "    connection = psycopg2.connect(\n",
    "    dbname=\"vector_db\",\n",
    "    user=\"postgres\",\n",
    "    password=\"great\",\n",
    "    host=\"localhost\",\n",
    "    port=\"5432\"\n",
    ")\n",
    "\n",
    "    # Create a cursor object\n",
    "    cursor = connection.cursor()\n",
    "\n",
    "    # Generate the embedding for the query sentence\n",
    "    query_embedding = model.embed_documents([query_sentence])[0]  # Get the embedding as a list\n",
    "    \n",
    "    # Convert the embedding to a format PostgreSQL understands (e.g., array)\n",
    "    query_embedding_str = ','.join(map(str, query_embedding))\n",
    "    \n",
    "    # Write the SQL query to find similar sentences, with explicit vector casting\n",
    "    sql_query = f\"\"\"\n",
    "    SELECT id, collection_id, document, embedding <=> '[{query_embedding_str}]'::vector AS distance\n",
    "    FROM langchain_pg_embedding\n",
    "    ORDER BY embedding <=> '[{query_embedding_str}]'::vector\n",
    "    LIMIT {top_n};\n",
    "    \"\"\"\n",
    "    \n",
    "    # Execute the SQL query\n",
    "    cursor.execute(sql_query)\n",
    "    \n",
    "    # Fetch the results\n",
    "    results = cursor.fetchall()\n",
    "    \n",
    "    # Create a list of dictionaries to store the result\n",
    "    similar_sentences = []\n",
    "    \n",
    "    for result in results:\n",
    "        similar_sentences.append({\n",
    "            \"sentence_id\": result[0],\n",
    "            \"collection_id\": result[1],\n",
    "            \"sentence\": result[2],\n",
    "            \"distance\": result[3]\n",
    "        })\n",
    "\n",
    "    # Convert the list of dictionaries to JSON\n",
    "    json_response = json.dumps(similar_sentences)\n",
    "\n",
    "    # Close the cursor and connection\n",
    "    cursor.close()\n",
    "    connection.close()\n",
    "\n",
    "    return json_response\n",
    "\n"
   ]
  },
  {
   "cell_type": "code",
   "execution_count": 7,
   "metadata": {},
   "outputs": [],
   "source": [
    "# Example usage\n",
    "query_sentence = \"If you want to achieve greatness stop asking for\"\n",
    "res = find_similar_sentences(query_sentence)"
   ]
  },
  {
   "cell_type": "code",
   "execution_count": 8,
   "metadata": {},
   "outputs": [
    {
     "data": {
      "text/plain": [
       "'[{\"sentence_id\": \"5d4f5fd0-1c0b-4bf2-a92a-3621509cc286\", \"collection_id\": \"dc497641-9d03-4142-9ed1-156a80881bb7\", \"sentence\": \"If you want to achieve greatness stop asking for permission. ~Anonymous\", \"distance\": 0.05026439880878031}]'"
      ]
     },
     "execution_count": 8,
     "metadata": {},
     "output_type": "execute_result"
    }
   ],
   "source": [
    "res"
   ]
  },
  {
   "cell_type": "code",
   "execution_count": 9,
   "metadata": {},
   "outputs": [],
   "source": [
    "import json\n",
    "json_res = json.dumps(res)"
   ]
  },
  {
   "cell_type": "code",
   "execution_count": 38,
   "metadata": {},
   "outputs": [
    {
     "data": {
      "text/plain": [
       "'[{\"sentence_id\": \"5d4f5fd0-1c0b-4bf2-a92a-3621509cc286\", \"collection_id\": \"dc497641-9d03-4142-9ed1-156a80881bb7\", \"sentence\": \"If you want to achieve greatness stop asking for permission. ~Anonymous\", \"distance\": 0.05026439880878031}]'"
      ]
     },
     "execution_count": 38,
     "metadata": {},
     "output_type": "execute_result"
    }
   ],
   "source": [
    "json_res"
   ]
  },
  {
   "cell_type": "code",
   "execution_count": 39,
   "metadata": {},
   "outputs": [
    {
     "data": {
      "text/plain": [
       "[{'sentence_id': '5d4f5fd0-1c0b-4bf2-a92a-3621509cc286',\n",
       "  'collection_id': 'dc497641-9d03-4142-9ed1-156a80881bb7',\n",
       "  'sentence': 'If you want to achieve greatness stop asking for permission. ~Anonymous',\n",
       "  'distance': 0.05026439880878031}]"
      ]
     },
     "execution_count": 39,
     "metadata": {},
     "output_type": "execute_result"
    }
   ],
   "source": [
    "res"
   ]
  },
  {
   "cell_type": "code",
   "execution_count": 10,
   "metadata": {},
   "outputs": [
    {
     "name": "stdout",
     "output_type": "stream",
     "text": [
      "The embedding dimension is: 768\n"
     ]
    }
   ],
   "source": [
    "# Sample sentence to generate the embedding\n",
    "sample_sentence = \"This is a test sentence to find embedding dimension.\"\n",
    "\n",
    "# Generate the embedding for the sample sentence\n",
    "embedding = model.embed_documents([sample_sentence])[0]\n",
    "\n",
    "# Get the dimension (length) of the embedding\n",
    "embedding_dimension = len(embedding)\n",
    "\n",
    "print(f\"The embedding dimension is: {embedding_dimension}\")\n"
   ]
  },
  {
   "cell_type": "code",
   "execution_count": null,
   "metadata": {},
   "outputs": [],
   "source": []
  }
 ],
 "metadata": {
  "kernelspec": {
   "display_name": "gemini",
   "language": "python",
   "name": "python3"
  },
  "language_info": {
   "codemirror_mode": {
    "name": "ipython",
    "version": 3
   },
   "file_extension": ".py",
   "mimetype": "text/x-python",
   "name": "python",
   "nbconvert_exporter": "python",
   "pygments_lexer": "ipython3",
   "version": "3.11.9"
  }
 },
 "nbformat": 4,
 "nbformat_minor": 2
}
